{
 "cells": [
  {
   "cell_type": "markdown",
   "id": "bd19dd14",
   "metadata": {},
   "source": [
    "# ICSI Transcript Extraction\n",
    "\n",
    "The following piece of code extracts the transcripts from the corresponding ```.mrt``` files and the abstractive summaries from the corresponding ```.xml``` files."
   ]
  },
  {
   "cell_type": "code",
   "execution_count": 1,
   "id": "ec3c20c3",
   "metadata": {},
   "outputs": [
    {
     "name": "stdout",
     "output_type": "stream",
     "text": [
      "Done.\n"
     ]
    }
   ],
   "source": [
    "import os\n",
    "import xml.etree.ElementTree as ET\n",
    "\n",
    "\n",
    "\n",
    "#load all the transcript files\n",
    "transcripts_path = './ICSI_original_transcripts/transcripts'\n",
    "transcript_files = os.listdir(transcripts_path)\n",
    "\n",
    "\n",
    "\n",
    "#load all the abstractive summary files\n",
    "abssum_path = './ICSIplus/Contributions/Summarization/abstractive'\n",
    "abssum_files = os.listdir(abssum_path)\n",
    "\n",
    "\n",
    "\n",
    "#collect all files which are present in both transcript and summarization folders\n",
    "filelist=[]\n",
    "for file in abssum_files:\n",
    "    if f'{file[:-12]}.mrt' in transcript_files:\n",
    "        filelist.append(f'{file[:-12]}.mrt')\n",
    "\n",
    "\n",
    "\n",
    "#create the tanscript directory\n",
    "if not os.path.exists(\"./transcripts\"):\n",
    "    os.makedirs(\"./transcripts\")\n",
    "    \n",
    "    \n",
    "    \n",
    "#create the summaries directory \n",
    "if not os.path.exists(\"./abstractive_summaries\"):\n",
    "    os.makedirs(\"./abstractive_summaries\")\n",
    "\n",
    "    \n",
    "\n",
    "#extract all the transcripts\n",
    "for file in filelist:\n",
    "    f = open(f'./transcripts/{file}.txt', 'w')\n",
    "    tree = ET.parse(f'{transcripts_path}/{file}')\n",
    "    root = tree.getroot()\n",
    "    \n",
    "    for child in root[1]:\n",
    "        texts = child.itertext()\n",
    "        for text in texts:\n",
    "            if len(text.strip()) != 0:\n",
    "                #print(text.strip(), end=' ')\n",
    "                f.write(text.strip() + \" \")\n",
    "    f.close()\n",
    "    \n",
    "    \n",
    "\n",
    "#extract all the abstractive summaries\n",
    "for file in abssum_files:\n",
    "    f = open(f'./abstractive_summaries/{file[:-4]}.txt', 'w')\n",
    "    tree = ET.parse(f'{abssum_path}/{file}')\n",
    "    root = tree.getroot()\n",
    "    \n",
    "    for section in root:\n",
    "        for sentence in section:\n",
    "            #print(sentence.text, end = \" \")\n",
    "            f.write(sentence.text.strip() + \" \")\n",
    "    f.close()\n",
    "print('Done.')          "
   ]
  },
  {
   "cell_type": "code",
   "execution_count": null,
   "id": "d3edbb5f",
   "metadata": {},
   "outputs": [],
   "source": []
  }
 ],
 "metadata": {
  "kernelspec": {
   "display_name": "Python 3 (ipykernel)",
   "language": "python",
   "name": "python3"
  },
  "language_info": {
   "codemirror_mode": {
    "name": "ipython",
    "version": 3
   },
   "file_extension": ".py",
   "mimetype": "text/x-python",
   "name": "python",
   "nbconvert_exporter": "python",
   "pygments_lexer": "ipython3",
   "version": "3.8.8"
  }
 },
 "nbformat": 4,
 "nbformat_minor": 5
}
